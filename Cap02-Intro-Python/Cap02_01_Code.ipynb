{
 "cells": [
  {
   "cell_type": "markdown",
   "id": "079aedfb-1ff2-4252-9203-21ab6f7bfc12",
   "metadata": {},
   "source": [
    "# Capítulo 2 - Introducción a la Programación en Python"
   ]
  },
  {
   "cell_type": "markdown",
   "id": "e9f83e85-859b-4d56-a622-c2e0a41dc5f2",
   "metadata": {},
   "source": [
    "## 2.1 Introducción"
   ]
  },
  {
   "cell_type": "markdown",
   "id": "ddf74cae-bdd7-4a1b-b844-59ad17e2c4d1",
   "metadata": {},
   "source": [
    "## 2.2 Variables y Sentencias de Asignación"
   ]
  },
  {
   "cell_type": "code",
   "execution_count": 1,
   "id": "ba0e2d70-ec05-420a-a987-56cc8a6462c4",
   "metadata": {},
   "outputs": [
    {
     "data": {
      "text/plain": [
       "117"
      ]
     },
     "execution_count": 1,
     "metadata": {},
     "output_type": "execute_result"
    }
   ],
   "source": [
    "45 + 72"
   ]
  },
  {
   "cell_type": "code",
   "execution_count": 2,
   "id": "f5f7bbc6-d907-468f-bd84-dc92579f433d",
   "metadata": {},
   "outputs": [],
   "source": [
    "x = 7"
   ]
  },
  {
   "cell_type": "code",
   "execution_count": 3,
   "id": "1fd393d4-ebe7-4e36-9d21-c66be1535205",
   "metadata": {},
   "outputs": [],
   "source": [
    "y = 3"
   ]
  },
  {
   "cell_type": "code",
   "execution_count": 4,
   "id": "fa68eff9-3462-4c8f-9376-8d3c5d3029cb",
   "metadata": {},
   "outputs": [
    {
     "data": {
      "text/plain": [
       "10"
      ]
     },
     "execution_count": 4,
     "metadata": {},
     "output_type": "execute_result"
    }
   ],
   "source": [
    "x + y"
   ]
  },
  {
   "cell_type": "code",
   "execution_count": 5,
   "id": "2fa64dca-de8c-4ed4-9110-c6b78e79fbf2",
   "metadata": {},
   "outputs": [],
   "source": [
    "total = x + y"
   ]
  },
  {
   "cell_type": "code",
   "execution_count": 6,
   "id": "c5990c44-2209-44e3-bac9-409ae4d89367",
   "metadata": {},
   "outputs": [
    {
     "data": {
      "text/plain": [
       "10"
      ]
     },
     "execution_count": 6,
     "metadata": {},
     "output_type": "execute_result"
    }
   ],
   "source": [
    "total"
   ]
  },
  {
   "cell_type": "code",
   "execution_count": 7,
   "id": "962dd0ad-2848-47b0-8e6e-6a20429c07ca",
   "metadata": {},
   "outputs": [
    {
     "data": {
      "text/plain": [
       "int"
      ]
     },
     "execution_count": 7,
     "metadata": {},
     "output_type": "execute_result"
    }
   ],
   "source": [
    "type(x)"
   ]
  },
  {
   "cell_type": "code",
   "execution_count": 8,
   "id": "bb3ddf2e-b8d7-4ec0-a6a4-d09f36cc81a9",
   "metadata": {},
   "outputs": [
    {
     "data": {
      "text/plain": [
       "float"
      ]
     },
     "execution_count": 8,
     "metadata": {},
     "output_type": "execute_result"
    }
   ],
   "source": [
    "type(10.5)"
   ]
  },
  {
   "cell_type": "code",
   "execution_count": null,
   "id": "48760d4f-1866-4452-ab04-943c603d9d77",
   "metadata": {},
   "outputs": [],
   "source": []
  }
 ],
 "metadata": {
  "kernelspec": {
   "display_name": "Python 3 (ipykernel)",
   "language": "python",
   "name": "python3"
  },
  "language_info": {
   "codemirror_mode": {
    "name": "ipython",
    "version": 3
   },
   "file_extension": ".py",
   "mimetype": "text/x-python",
   "name": "python",
   "nbconvert_exporter": "python",
   "pygments_lexer": "ipython3",
   "version": "3.9.13"
  }
 },
 "nbformat": 4,
 "nbformat_minor": 5
}
