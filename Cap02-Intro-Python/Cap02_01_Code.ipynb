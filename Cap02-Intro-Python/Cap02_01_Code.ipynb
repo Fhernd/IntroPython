{
 "cells": [
  {
   "cell_type": "markdown",
   "id": "079aedfb-1ff2-4252-9203-21ab6f7bfc12",
   "metadata": {},
   "source": [
    "# Capítulo 2 - Introducción a la Programación en Python"
   ]
  },
  {
   "cell_type": "markdown",
   "id": "e9f83e85-859b-4d56-a622-c2e0a41dc5f2",
   "metadata": {},
   "source": [
    "## 2.1 Introducción"
   ]
  },
  {
   "cell_type": "markdown",
   "id": "ddf74cae-bdd7-4a1b-b844-59ad17e2c4d1",
   "metadata": {},
   "source": [
    "## 2.2 Variables y Sentencias de Asignación"
   ]
  },
  {
   "cell_type": "code",
   "execution_count": 1,
   "id": "ba0e2d70-ec05-420a-a987-56cc8a6462c4",
   "metadata": {},
   "outputs": [
    {
     "data": {
      "text/plain": [
       "117"
      ]
     },
     "execution_count": 1,
     "metadata": {},
     "output_type": "execute_result"
    }
   ],
   "source": [
    "45 + 72"
   ]
  },
  {
   "cell_type": "code",
   "execution_count": 2,
   "id": "f5f7bbc6-d907-468f-bd84-dc92579f433d",
   "metadata": {},
   "outputs": [],
   "source": [
    "x = 7"
   ]
  },
  {
   "cell_type": "code",
   "execution_count": 3,
   "id": "1fd393d4-ebe7-4e36-9d21-c66be1535205",
   "metadata": {},
   "outputs": [],
   "source": [
    "y = 3"
   ]
  },
  {
   "cell_type": "code",
   "execution_count": 4,
   "id": "fa68eff9-3462-4c8f-9376-8d3c5d3029cb",
   "metadata": {},
   "outputs": [
    {
     "data": {
      "text/plain": [
       "10"
      ]
     },
     "execution_count": 4,
     "metadata": {},
     "output_type": "execute_result"
    }
   ],
   "source": [
    "x + y"
   ]
  },
  {
   "cell_type": "code",
   "execution_count": 5,
   "id": "2fa64dca-de8c-4ed4-9110-c6b78e79fbf2",
   "metadata": {},
   "outputs": [],
   "source": [
    "total = x + y"
   ]
  },
  {
   "cell_type": "code",
   "execution_count": 6,
   "id": "c5990c44-2209-44e3-bac9-409ae4d89367",
   "metadata": {},
   "outputs": [
    {
     "data": {
      "text/plain": [
       "10"
      ]
     },
     "execution_count": 6,
     "metadata": {},
     "output_type": "execute_result"
    }
   ],
   "source": [
    "total"
   ]
  },
  {
   "cell_type": "code",
   "execution_count": 7,
   "id": "962dd0ad-2848-47b0-8e6e-6a20429c07ca",
   "metadata": {},
   "outputs": [
    {
     "data": {
      "text/plain": [
       "int"
      ]
     },
     "execution_count": 7,
     "metadata": {},
     "output_type": "execute_result"
    }
   ],
   "source": [
    "type(x)"
   ]
  },
  {
   "cell_type": "code",
   "execution_count": 8,
   "id": "bb3ddf2e-b8d7-4ec0-a6a4-d09f36cc81a9",
   "metadata": {},
   "outputs": [
    {
     "data": {
      "text/plain": [
       "float"
      ]
     },
     "execution_count": 8,
     "metadata": {},
     "output_type": "execute_result"
    }
   ],
   "source": [
    "type(10.5)"
   ]
  },
  {
   "cell_type": "code",
   "execution_count": 9,
   "id": "48760d4f-1866-4452-ab04-943c603d9d77",
   "metadata": {},
   "outputs": [],
   "source": [
    "total = 10.8 + 12.2 + 0.2"
   ]
  },
  {
   "cell_type": "code",
   "execution_count": 10,
   "id": "e7d26ff7-f7b3-48c1-8d07-e7569b9f6c3a",
   "metadata": {},
   "outputs": [
    {
     "data": {
      "text/plain": [
       "23.2"
      ]
     },
     "execution_count": 10,
     "metadata": {},
     "output_type": "execute_result"
    }
   ],
   "source": [
    "total"
   ]
  },
  {
   "cell_type": "code",
   "execution_count": 11,
   "id": "23b3797c-076e-477e-8f28-73963f84ed13",
   "metadata": {},
   "outputs": [],
   "source": [
    "total = 10.8 + 12.2 + 0.2"
   ]
  },
  {
   "cell_type": "code",
   "execution_count": 12,
   "id": "baffa8ae-37f9-4619-b87e-3f620ff7057e",
   "metadata": {},
   "outputs": [
    {
     "data": {
      "text/plain": [
       "23.2"
      ]
     },
     "execution_count": 12,
     "metadata": {},
     "output_type": "execute_result"
    }
   ],
   "source": [
    "total"
   ]
  },
  {
   "cell_type": "markdown",
   "id": "90691404-4162-445e-b46c-11cca2901c00",
   "metadata": {},
   "source": [
    "## 2.3 Arithmetic"
   ]
  },
  {
   "cell_type": "code",
   "execution_count": 13,
   "id": "1b24de04-550e-4acb-be71-09ab20358d16",
   "metadata": {},
   "outputs": [
    {
     "data": {
      "text/plain": [
       "28"
      ]
     },
     "execution_count": 13,
     "metadata": {},
     "output_type": "execute_result"
    }
   ],
   "source": [
    "7 * 4"
   ]
  },
  {
   "cell_type": "code",
   "execution_count": 14,
   "id": "3da97b31-5eb9-4963-8494-37245d3fdceb",
   "metadata": {},
   "outputs": [
    {
     "data": {
      "text/plain": [
       "1024"
      ]
     },
     "execution_count": 14,
     "metadata": {},
     "output_type": "execute_result"
    }
   ],
   "source": [
    "2 ** 10"
   ]
  },
  {
   "cell_type": "code",
   "execution_count": 15,
   "id": "5a5fc006-7696-4f0b-ba02-9329487e64e1",
   "metadata": {},
   "outputs": [
    {
     "data": {
      "text/plain": [
       "3.0"
      ]
     },
     "execution_count": 15,
     "metadata": {},
     "output_type": "execute_result"
    }
   ],
   "source": [
    "9 ** (1/2)"
   ]
  },
  {
   "cell_type": "code",
   "execution_count": 16,
   "id": "15f2abc0-f770-467f-a224-a4d4f251c08f",
   "metadata": {},
   "outputs": [
    {
     "data": {
      "text/plain": [
       "1.75"
      ]
     },
     "execution_count": 16,
     "metadata": {},
     "output_type": "execute_result"
    }
   ],
   "source": [
    "7 / 4"
   ]
  },
  {
   "cell_type": "code",
   "execution_count": 17,
   "id": "3315590f-66ef-468f-ac0b-66a833f3241f",
   "metadata": {},
   "outputs": [
    {
     "data": {
      "text/plain": [
       "1"
      ]
     },
     "execution_count": 17,
     "metadata": {},
     "output_type": "execute_result"
    }
   ],
   "source": [
    "7 // 4"
   ]
  },
  {
   "cell_type": "code",
   "execution_count": 18,
   "id": "77f8f550-880f-4846-a9ef-d5214257884b",
   "metadata": {},
   "outputs": [
    {
     "data": {
      "text/plain": [
       "0"
      ]
     },
     "execution_count": 18,
     "metadata": {},
     "output_type": "execute_result"
    }
   ],
   "source": [
    "3 // 5"
   ]
  },
  {
   "cell_type": "code",
   "execution_count": 19,
   "id": "5856d36a-3308-4e52-9a22-808415b03a4f",
   "metadata": {},
   "outputs": [
    {
     "data": {
      "text/plain": [
       "2"
      ]
     },
     "execution_count": 19,
     "metadata": {},
     "output_type": "execute_result"
    }
   ],
   "source": [
    "14 // 7"
   ]
  },
  {
   "cell_type": "code",
   "execution_count": 20,
   "id": "3bd7dd3b-95a9-41e4-9b51-d813666d6072",
   "metadata": {},
   "outputs": [
    {
     "data": {
      "text/plain": [
       "-3.25"
      ]
     },
     "execution_count": 20,
     "metadata": {},
     "output_type": "execute_result"
    }
   ],
   "source": [
    "-13 / 4"
   ]
  },
  {
   "cell_type": "code",
   "execution_count": 21,
   "id": "7dc6ba56-b747-49d1-be97-dcc0e32d762b",
   "metadata": {},
   "outputs": [
    {
     "data": {
      "text/plain": [
       "-4"
      ]
     },
     "execution_count": 21,
     "metadata": {},
     "output_type": "execute_result"
    }
   ],
   "source": [
    "-13 // 4"
   ]
  },
  {
   "cell_type": "code",
   "execution_count": 22,
   "id": "287f8b39-7426-4b75-bf28-97dcf7a37e93",
   "metadata": {},
   "outputs": [
    {
     "ename": "ZeroDivisionError",
     "evalue": "division by zero",
     "output_type": "error",
     "traceback": [
      "\u001b[1;31m---------------------------------------------------------------------------\u001b[0m",
      "\u001b[1;31mZeroDivisionError\u001b[0m                         Traceback (most recent call last)",
      "\u001b[1;32m~\\AppData\\Local\\Temp\\ipykernel_47048\\1568090621.py\u001b[0m in \u001b[0;36m<module>\u001b[1;34m\u001b[0m\n\u001b[1;32m----> 1\u001b[1;33m \u001b[1;36m123\u001b[0m \u001b[1;33m/\u001b[0m \u001b[1;36m0\u001b[0m\u001b[1;33m\u001b[0m\u001b[1;33m\u001b[0m\u001b[0m\n\u001b[0m",
      "\u001b[1;31mZeroDivisionError\u001b[0m: division by zero"
     ]
    }
   ],
   "source": [
    "123 / 0"
   ]
  },
  {
   "cell_type": "code",
   "execution_count": 23,
   "id": "9b8a06c8-896d-4e60-8dfb-1385349dcfde",
   "metadata": {},
   "outputs": [
    {
     "ename": "NameError",
     "evalue": "name 'z' is not defined",
     "output_type": "error",
     "traceback": [
      "\u001b[1;31m---------------------------------------------------------------------------\u001b[0m",
      "\u001b[1;31mNameError\u001b[0m                                 Traceback (most recent call last)",
      "\u001b[1;32m~\\AppData\\Local\\Temp\\ipykernel_47048\\1015484808.py\u001b[0m in \u001b[0;36m<module>\u001b[1;34m\u001b[0m\n\u001b[1;32m----> 1\u001b[1;33m \u001b[0mz\u001b[0m \u001b[1;33m+\u001b[0m \u001b[1;36m7\u001b[0m\u001b[1;33m\u001b[0m\u001b[1;33m\u001b[0m\u001b[0m\n\u001b[0m",
      "\u001b[1;31mNameError\u001b[0m: name 'z' is not defined"
     ]
    }
   ],
   "source": [
    "z + 7"
   ]
  },
  {
   "cell_type": "code",
   "execution_count": 24,
   "id": "98fb9e58-834b-4312-84be-941de987a04b",
   "metadata": {},
   "outputs": [
    {
     "data": {
      "text/plain": [
       "2"
      ]
     },
     "execution_count": 24,
     "metadata": {},
     "output_type": "execute_result"
    }
   ],
   "source": [
    "17 % 5"
   ]
  },
  {
   "cell_type": "code",
   "execution_count": 25,
   "id": "e87102d0-6ef4-40f7-bdbc-974d639c81fa",
   "metadata": {},
   "outputs": [
    {
     "data": {
      "text/plain": [
       "18"
      ]
     },
     "execution_count": 25,
     "metadata": {},
     "output_type": "execute_result"
    }
   ],
   "source": [
    "10 + (5 + 3)"
   ]
  },
  {
   "cell_type": "code",
   "execution_count": 26,
   "id": "3a29bb71-7f52-4ae4-8838-3c7a4ec12b1a",
   "metadata": {},
   "outputs": [
    {
     "data": {
      "text/plain": [
       "53"
      ]
     },
     "execution_count": 26,
     "metadata": {},
     "output_type": "execute_result"
    }
   ],
   "source": [
    "10 * 5 + 3"
   ]
  },
  {
   "cell_type": "code",
   "execution_count": 27,
   "id": "daa74282-3412-4e31-8476-3c76c6106610",
   "metadata": {},
   "outputs": [
    {
     "data": {
      "text/plain": [
       "-3"
      ]
     },
     "execution_count": 27,
     "metadata": {},
     "output_type": "execute_result"
    }
   ],
   "source": [
    "3 * (4 - 5)"
   ]
  },
  {
   "cell_type": "code",
   "execution_count": 28,
   "id": "f9c33726-c087-4c27-b086-a63cc639e6db",
   "metadata": {},
   "outputs": [
    {
     "data": {
      "text/plain": [
       "7"
      ]
     },
     "execution_count": 28,
     "metadata": {},
     "output_type": "execute_result"
    }
   ],
   "source": [
    "3 * 4 - 5"
   ]
  },
  {
   "cell_type": "code",
   "execution_count": 29,
   "id": "4cdd9f09-910a-440b-8fb3-2c3efb7a1263",
   "metadata": {},
   "outputs": [
    {
     "data": {
      "text/plain": [
       "262144"
      ]
     },
     "execution_count": 29,
     "metadata": {},
     "output_type": "execute_result"
    }
   ],
   "source": [
    "4 ** 3 ** 2"
   ]
  },
  {
   "cell_type": "code",
   "execution_count": 30,
   "id": "dfe9261f-1e35-4739-9cb1-b88543739559",
   "metadata": {},
   "outputs": [
    {
     "data": {
      "text/plain": [
       "4096"
      ]
     },
     "execution_count": 30,
     "metadata": {},
     "output_type": "execute_result"
    }
   ],
   "source": [
    "(4 ** 3) ** 2"
   ]
  },
  {
   "cell_type": "code",
   "execution_count": 31,
   "id": "c1c424ab-1873-4cc3-bf9a-a60ae2099853",
   "metadata": {},
   "outputs": [
    {
     "data": {
      "text/plain": [
       "262144"
      ]
     },
     "execution_count": 31,
     "metadata": {},
     "output_type": "execute_result"
    }
   ],
   "source": [
    "4 ** (3 ** 2)"
   ]
  },
  {
   "cell_type": "markdown",
   "id": "444cfc2e-dd43-4a3f-bcc8-fd5d81e17686",
   "metadata": {},
   "source": [
    "## 2.4 Función `print()` e Introducción a Cadenas de Caracteres"
   ]
  },
  {
   "cell_type": "code",
   "execution_count": 33,
   "id": "b84326d8-6eda-4ca7-b2a5-c38180fae33b",
   "metadata": {},
   "outputs": [
    {
     "name": "stdout",
     "output_type": "stream",
     "text": [
      "Welcome to Python!\n"
     ]
    }
   ],
   "source": [
    "print('Welcome to Python!')"
   ]
  },
  {
   "cell_type": "code",
   "execution_count": 34,
   "id": "5f5431e1-549f-4973-bf7b-033b7d268788",
   "metadata": {},
   "outputs": [
    {
     "name": "stdout",
     "output_type": "stream",
     "text": [
      "Welcome to Python!\n"
     ]
    }
   ],
   "source": [
    "print(\"Welcome to Python!\")"
   ]
  },
  {
   "cell_type": "code",
   "execution_count": 35,
   "id": "79e98777-2730-4e2c-8ee7-66032e98e755",
   "metadata": {},
   "outputs": [
    {
     "name": "stdout",
     "output_type": "stream",
     "text": [
      "Welcome to Python!\n"
     ]
    }
   ],
   "source": [
    "print('Welcome', 'to', 'Python!')"
   ]
  },
  {
   "cell_type": "code",
   "execution_count": 37,
   "id": "6e761adb-d8a6-4aed-92a0-fb4edd148950",
   "metadata": {},
   "outputs": [
    {
     "name": "stdout",
     "output_type": "stream",
     "text": [
      "Welcome\n",
      "to\n",
      "\n",
      "Python!\n"
     ]
    }
   ],
   "source": [
    "print('Welcome\\nto\\n\\nPython!')"
   ]
  },
  {
   "cell_type": "code",
   "execution_count": 38,
   "id": "04fe7911-f6cd-4acc-bf02-3291681f0380",
   "metadata": {},
   "outputs": [
    {
     "name": "stdout",
     "output_type": "stream",
     "text": [
      "This is a longer string, so we split it over two lines\n"
     ]
    }
   ],
   "source": [
    "print('This is a longer string, so we \\\n",
    "split it over two lines')"
   ]
  },
  {
   "cell_type": "code",
   "execution_count": 39,
   "id": "31f8d127-be51-4d4b-a647-14ed5890310d",
   "metadata": {},
   "outputs": [
    {
     "name": "stdout",
     "output_type": "stream",
     "text": [
      "Sum is 10\n"
     ]
    }
   ],
   "source": [
    "print('Sum is', 7 + 3)"
   ]
  },
  {
   "cell_type": "code",
   "execution_count": 40,
   "id": "87ad7523-33d9-4860-81ba-bcd4cc03d8c3",
   "metadata": {},
   "outputs": [
    {
     "data": {
      "text/plain": [
       "str"
      ]
     },
     "execution_count": 40,
     "metadata": {},
     "output_type": "execute_result"
    }
   ],
   "source": [
    "type('Word')"
   ]
  },
  {
   "cell_type": "code",
   "execution_count": 42,
   "id": "8f74196a-5064-4a04-98e5-d521e372686d",
   "metadata": {},
   "outputs": [
    {
     "name": "stdout",
     "output_type": "stream",
     "text": [
      "int(5.2) truncates 5.2 to 5\n"
     ]
    }
   ],
   "source": [
    "print('int(5.2)', 'truncates 5.2 to', int(5.2))"
   ]
  },
  {
   "cell_type": "code",
   "execution_count": null,
   "id": "5cdb51fb-5574-4fec-8e36-7b9c10449a17",
   "metadata": {},
   "outputs": [],
   "source": []
  }
 ],
 "metadata": {
  "kernelspec": {
   "display_name": "Python 3 (ipykernel)",
   "language": "python",
   "name": "python3"
  },
  "language_info": {
   "codemirror_mode": {
    "name": "ipython",
    "version": 3
   },
   "file_extension": ".py",
   "mimetype": "text/x-python",
   "name": "python",
   "nbconvert_exporter": "python",
   "pygments_lexer": "ipython3",
   "version": "3.9.13"
  }
 },
 "nbformat": 4,
 "nbformat_minor": 5
}
